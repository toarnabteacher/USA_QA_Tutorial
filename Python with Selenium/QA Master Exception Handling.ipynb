{
 "cells": [
  {
   "cell_type": "markdown",
   "id": "e7b00f45-4a2c-47ad-922f-652eea4a2117",
   "metadata": {},
   "source": [
    "# **Python Exception Handling**"
   ]
  },
  {
   "cell_type": "code",
   "execution_count": null,
   "id": "064a0ac0-30b3-43b0-aaa8-dbe6ed9b4c5d",
   "metadata": {},
   "outputs": [],
   "source": [
    "https://docs.python.org/3.10/library/exceptions.html"
   ]
  },
  {
   "cell_type": "code",
   "execution_count": 5,
   "id": "09980a5c-bea4-433f-bcee-eec827c8d8d1",
   "metadata": {},
   "outputs": [
    {
     "name": "stdin",
     "output_type": "stream",
     "text": [
      "Please enter the first integer number:  500\n",
      "Please enter the second integer number:  0\n"
     ]
    },
    {
     "ename": "ZeroDivisionError",
     "evalue": "division by zero",
     "output_type": "error",
     "traceback": [
      "\u001b[1;31m---------------------------------------------------------------------------\u001b[0m",
      "\u001b[1;31mZeroDivisionError\u001b[0m                         Traceback (most recent call last)",
      "Cell \u001b[1;32mIn[5], line 3\u001b[0m\n\u001b[0;32m      1\u001b[0m num1 \u001b[38;5;241m=\u001b[39m \u001b[38;5;28mint\u001b[39m(\u001b[38;5;28minput\u001b[39m(\u001b[38;5;124m\"\u001b[39m\u001b[38;5;124mPlease enter the first integer number: \u001b[39m\u001b[38;5;124m\"\u001b[39m))\n\u001b[0;32m      2\u001b[0m num2 \u001b[38;5;241m=\u001b[39m \u001b[38;5;28mint\u001b[39m(\u001b[38;5;28minput\u001b[39m(\u001b[38;5;124m\"\u001b[39m\u001b[38;5;124mPlease enter the second integer number: \u001b[39m\u001b[38;5;124m\"\u001b[39m))\n\u001b[1;32m----> 3\u001b[0m quot \u001b[38;5;241m=\u001b[39m num1 \u001b[38;5;241m/\u001b[39m num2\n\u001b[0;32m      4\u001b[0m \u001b[38;5;28mprint\u001b[39m(\u001b[38;5;124mf\u001b[39m\u001b[38;5;124m\"\u001b[39m\u001b[38;5;124mSo \u001b[39m\u001b[38;5;132;01m{\u001b[39;00mnum1\u001b[38;5;132;01m}\u001b[39;00m\u001b[38;5;124m / \u001b[39m\u001b[38;5;132;01m{\u001b[39;00mnum2\u001b[38;5;132;01m}\u001b[39;00m\u001b[38;5;124m = \u001b[39m\u001b[38;5;132;01m{\u001b[39;00mquot\u001b[38;5;132;01m}\u001b[39;00m\u001b[38;5;124m...\u001b[39m\u001b[38;5;124m\"\u001b[39m)\n\u001b[0;32m      5\u001b[0m \u001b[38;5;28mprint\u001b[39m(\u001b[38;5;124m\"\u001b[39m\u001b[38;5;124mEnd of the program...\u001b[39m\u001b[38;5;124m\"\u001b[39m)\n",
      "\u001b[1;31mZeroDivisionError\u001b[0m: division by zero"
     ]
    }
   ],
   "source": [
    "num1 = int(input(\"Please enter the first integer number: \"))\n",
    "num2 = int(input(\"Please enter the second integer number: \"))\n",
    "quot = num1 / num2\n",
    "print(f\"So {num1} / {num2} = {quot}...\")\n",
    "print(\"End of the program...\")"
   ]
  },
  {
   "cell_type": "code",
   "execution_count": 6,
   "id": "a5dafddf-ae72-403f-b7e1-85e32789e98a",
   "metadata": {},
   "outputs": [
    {
     "name": "stdin",
     "output_type": "stream",
     "text": [
      "Please enter the first integer number:  500\n",
      "Please enter the second integer number:  0\n"
     ]
    },
    {
     "name": "stdout",
     "output_type": "stream",
     "text": [
      "ZeroDivisionError: Division by ZERO is Illegal...!!!\n",
      "ZeroDivisionError: Error message: division by zero\n",
      "ZeroDivisionError: Error type: <class 'ZeroDivisionError'>\n",
      "End of the program...\n"
     ]
    }
   ],
   "source": [
    "try:\n",
    "    num1 = int(input(\"Please enter the first integer number: \"))\n",
    "    num2 = int(input(\"Please enter the second integer number: \"))\n",
    "    quot = num1 / num2\n",
    "    print(f\"So {num1} / {num2} = {quot}...\")\n",
    "except ZeroDivisionError as zde:\n",
    "    print(\"ZeroDivisionError: Division by ZERO is Illegal...!!!\")\n",
    "    print(\"ZeroDivisionError: Error message:\", zde)\n",
    "    print(\"ZeroDivisionError: Error type:\", type(zde))\n",
    "print(\"End of the program...\")"
   ]
  },
  {
   "cell_type": "code",
   "execution_count": 1,
   "id": "b2f879c3-efab-4767-97a8-0f98741fdfd9",
   "metadata": {},
   "outputs": [
    {
     "name": "stdin",
     "output_type": "stream",
     "text": [
      "Please enter the first integer number:  13.5\n"
     ]
    },
    {
     "ename": "ValueError",
     "evalue": "invalid literal for int() with base 10: '13.5'",
     "output_type": "error",
     "traceback": [
      "\u001b[1;31m---------------------------------------------------------------------------\u001b[0m",
      "\u001b[1;31mValueError\u001b[0m                                Traceback (most recent call last)",
      "Cell \u001b[1;32mIn[1], line 2\u001b[0m\n\u001b[0;32m      1\u001b[0m \u001b[38;5;28;01mtry\u001b[39;00m:\n\u001b[1;32m----> 2\u001b[0m     num1 \u001b[38;5;241m=\u001b[39m \u001b[38;5;28mint\u001b[39m(\u001b[38;5;28minput\u001b[39m(\u001b[38;5;124m\"\u001b[39m\u001b[38;5;124mPlease enter the first integer number: \u001b[39m\u001b[38;5;124m\"\u001b[39m))\n\u001b[0;32m      3\u001b[0m     num2 \u001b[38;5;241m=\u001b[39m \u001b[38;5;28mint\u001b[39m(\u001b[38;5;28minput\u001b[39m(\u001b[38;5;124m\"\u001b[39m\u001b[38;5;124mPlease enter the second integer number: \u001b[39m\u001b[38;5;124m\"\u001b[39m))\n\u001b[0;32m      4\u001b[0m     quot \u001b[38;5;241m=\u001b[39m num1 \u001b[38;5;241m/\u001b[39m num2\n",
      "\u001b[1;31mValueError\u001b[0m: invalid literal for int() with base 10: '13.5'"
     ]
    }
   ],
   "source": [
    "try:\n",
    "    num1 = int(input(\"Please enter the first integer number: \"))\n",
    "    num2 = int(input(\"Please enter the second integer number: \"))\n",
    "    quot = num1 / num2\n",
    "    print(f\"So {num1} / {num2} = {quot}...\")\n",
    "except ZeroDivisionError as zde:\n",
    "    print(\"ZeroDivisionError: Division by ZERO is Illegal...!!!\")\n",
    "    print(\"ZeroDivisionError: Error message:\", zde)\n",
    "    print(\"ZeroDivisionError: Error type:\", type(zde))\n",
    "print(\"End of the program...\")"
   ]
  },
  {
   "cell_type": "code",
   "execution_count": 2,
   "id": "8e360cab-c192-43f0-b8c7-218412009173",
   "metadata": {},
   "outputs": [
    {
     "name": "stdin",
     "output_type": "stream",
     "text": [
      "Please enter the first integer number:  13.5\n"
     ]
    },
    {
     "name": "stdout",
     "output_type": "stream",
     "text": [
      "ValueError: Please provide integer inputs only...!!!\n",
      "ValueError: Error message: invalid literal for int() with base 10: '13.5'\n",
      "ValueError: Error type: <class 'ValueError'>\n",
      "End of the program...\n"
     ]
    }
   ],
   "source": [
    "try:\n",
    "    num1 = int(input(\"Please enter the first integer number: \"))\n",
    "    num2 = int(input(\"Please enter the second integer number: \"))\n",
    "    quot = num1 / num2\n",
    "    print(f\"So {num1} / {num2} = {quot}...\")\n",
    "except ZeroDivisionError as zde:\n",
    "    print(\"ZeroDivisionError: Division by ZERO is Illegal...!!!\")\n",
    "    print(\"ZeroDivisionError: Error message:\", zde)\n",
    "    print(\"ZeroDivisionError: Error type:\", type(zde))\n",
    "except ValueError as ve:\n",
    "    print(\"ValueError: Please provide integer inputs only...!!!\")\n",
    "    print(\"ValueError: Error message:\", ve)\n",
    "    print(\"ValueError: Error type:\", type(ve))\n",
    "print(\"End of the program...\")"
   ]
  },
  {
   "cell_type": "code",
   "execution_count": 12,
   "id": "fc9caeae-1229-49e6-bdd4-0829a35bf756",
   "metadata": {},
   "outputs": [
    {
     "name": "stdin",
     "output_type": "stream",
     "text": [
      "Please enter the first integer number:  100\n",
      "Please enter the second integer number:  three\n"
     ]
    },
    {
     "name": "stdout",
     "output_type": "stream",
     "text": [
      "ValueError: Please provide integer inputs only...!!!\n",
      "ValueError: Error message: invalid literal for int() with base 10: 'three'\n",
      "ValueError: Error type: <class 'ValueError'>\n",
      "End of the program...\n"
     ]
    }
   ],
   "source": [
    "try:\n",
    "    num1 = int(input(\"Please enter the first integer number: \"))\n",
    "    num2 = int(input(\"Please enter the second integer number: \"))\n",
    "    quot = num1 / num2\n",
    "    print(f\"So {num1} / {num2} = {quot}...\")\n",
    "except ValueError as ve:\n",
    "    print(\"ValueError: Please provide integer inputs only...!!!\")\n",
    "    print(\"ValueError: Error message:\", ve)\n",
    "    print(\"ValueError: Error type:\", type(ve))\n",
    "except ZeroDivisionError as zde:\n",
    "    print(\"ZeroDivisionError: Division by ZERO is Illegal...!!!\")\n",
    "    print(\"ZeroDivisionError: Error message:\", zde)\n",
    "    print(\"ZeroDivisionError: Error type:\", type(zde))\n",
    "print(\"End of the program...\")"
   ]
  },
  {
   "cell_type": "code",
   "execution_count": 13,
   "id": "7a87b972-51cc-46b4-a306-791dddff4020",
   "metadata": {},
   "outputs": [
    {
     "name": "stdin",
     "output_type": "stream",
     "text": [
      "Please enter the first integer number:  100\n",
      "Please enter the second integer number:  20\n"
     ]
    },
    {
     "name": "stdout",
     "output_type": "stream",
     "text": [
      "So 100 / 20 = 5.0...\n",
      "Else: Else block is executing...\n",
      "Else: Had a smooth execution...\n",
      "End of the program...\n"
     ]
    }
   ],
   "source": [
    "try:\n",
    "    num1 = int(input(\"Please enter the first integer number: \"))\n",
    "    num2 = int(input(\"Please enter the second integer number: \"))\n",
    "    quot = num1 / num2\n",
    "    print(f\"So {num1} / {num2} = {quot}...\")\n",
    "except ValueError as ve:\n",
    "    print(\"ValueError: Please provide integer inputs only...!!!\")\n",
    "    print(\"ValueError: Error message:\", ve)\n",
    "    print(\"ValueError: Error type:\", type(ve))\n",
    "except ZeroDivisionError as zde:\n",
    "    print(\"ZeroDivisionError: Division by ZERO is Illegal...!!!\")\n",
    "    print(\"ZeroDivisionError: Error message:\", zde)\n",
    "    print(\"ZeroDivisionError: Error type:\", type(zde))\n",
    "else:\n",
    "    print(\"Else: Else block is executing...\")\n",
    "    print(\"Else: Had a smooth execution...\")\n",
    "print(\"End of the program...\")"
   ]
  },
  {
   "cell_type": "code",
   "execution_count": 19,
   "id": "fd499f36-7965-4111-a31c-52d62a1eb29f",
   "metadata": {},
   "outputs": [
    {
     "name": "stdin",
     "output_type": "stream",
     "text": [
      "Please enter the first integer number:  100\n",
      "Please enter the second integer number:  0\n"
     ]
    },
    {
     "name": "stdout",
     "output_type": "stream",
     "text": [
      "Exception: Another error has occurred...\n",
      "Exception: Error message: division by zero\n",
      "Exception: Error type: <class 'ZeroDivisionError'>\n",
      "Finally: Finally block is executing...\n",
      "Finally: Finally block executes always...\n",
      "End of the program...\n"
     ]
    }
   ],
   "source": [
    "try:\n",
    "    num1 = int(input(\"Please enter the first integer number: \"))\n",
    "    num2 = int(input(\"Please enter the second integer number: \"))\n",
    "    quot = num1 / num2\n",
    "    print(f\"So {num1} / {num2} = {quot}...\")\n",
    "except ValueError as ve:\n",
    "    print(\"ValueError: Please provide integer inputs only...!!!\")\n",
    "    print(\"ValueError: Error message:\", ve)\n",
    "    print(\"ValueError: Error type:\", type(ve))\n",
    "# except ZeroDivisionError as zde:\n",
    "#     print(\"ZeroDivisionError: Division by ZERO is Illegal...!!!\")\n",
    "#     print(\"ZeroDivisionError: Error message:\", zde)\n",
    "#     print(\"ZeroDivisionError: Error type:\", type(zde))\n",
    "except Exception as ex:\n",
    "    print(\"Exception: Another error has occurred...\")\n",
    "    print(\"Exception: Error message:\", ex)\n",
    "    print(\"Exception: Error type:\", type(ex))\n",
    "else:\n",
    "    print(\"Else: Else block is executing...\")\n",
    "    print(\"Else: Had a smooth execution...\")\n",
    "finally:\n",
    "    print(\"Finally: Finally block is executing...\")\n",
    "    print(\"Finally: Finally block executes always...\")\n",
    "print(\"End of the program...\")"
   ]
  },
  {
   "cell_type": "code",
   "execution_count": 21,
   "id": "58376fb4-b369-46b1-8e3b-1704e7f0c051",
   "metadata": {},
   "outputs": [
    {
     "name": "stdin",
     "output_type": "stream",
     "text": [
      "Please enter the first integer number:  100.5\n"
     ]
    },
    {
     "name": "stdout",
     "output_type": "stream",
     "text": [
      "Exception: Another error has occurred...\n",
      "Exception: Error message: invalid literal for int() with base 10: '100.5'\n",
      "Exception: Error type: <class 'ValueError'>\n",
      "Finally: Finally block is executing...\n",
      "Finally: Finally block executes always...\n",
      "End of the program...\n"
     ]
    }
   ],
   "source": [
    "try:\n",
    "    num1 = int(input(\"Please enter the first integer number: \"))\n",
    "    num2 = int(input(\"Please enter the second integer number: \"))\n",
    "    quot = num1 / num2\n",
    "    print(f\"So {num1} / {num2} = {quot}...\")\n",
    "except Exception as ex:\n",
    "    print(\"Exception: Another error has occurred...\")\n",
    "    print(\"Exception: Error message:\", ex)\n",
    "    print(\"Exception: Error type:\", type(ex))\n",
    "except ValueError as ve:\n",
    "    print(\"ValueError: Please provide integer inputs only...!!!\")\n",
    "    print(\"ValueError: Error message:\", ve)\n",
    "    print(\"ValueError: Error type:\", type(ve))\n",
    "except ZeroDivisionError as zde:\n",
    "    print(\"ZeroDivisionError: Division by ZERO is Illegal...!!!\")\n",
    "    print(\"ZeroDivisionError: Error message:\", zde)\n",
    "    print(\"ZeroDivisionError: Error type:\", type(zde))\n",
    "else:\n",
    "    print(\"Else: Else block is executing...\")\n",
    "    print(\"Else: Had a smooth execution...\")\n",
    "finally:\n",
    "    print(\"Finally: Finally block is executing...\")\n",
    "    print(\"Finally: Finally block executes always...\")\n",
    "print(\"End of the program...\")"
   ]
  },
  {
   "cell_type": "code",
   "execution_count": 25,
   "id": "b62b9100-d0cd-4a1b-b128-d23138959748",
   "metadata": {},
   "outputs": [
    {
     "name": "stdin",
     "output_type": "stream",
     "text": [
      "Please enter the first integer (between -500 to 500) number:  100\n",
      "Please enter the second integer (between -500 to 500) number:  -900\n"
     ]
    },
    {
     "name": "stdout",
     "output_type": "stream",
     "text": [
      "NameError: Input value(s) is/are out of range...\n",
      "NameError: Error messaage: Bellow-500\n",
      "NameError: Error type: <class 'NameError'>\n",
      "NameError: Your input value(s) is/are below -500...\n",
      "Finally: Finally block is executing...\n",
      "Finally: Finally block executes always...\n",
      "End of the program...\n"
     ]
    }
   ],
   "source": [
    "try:\n",
    "    num1 = int(input(\"Please enter the first integer (between -500 to 500) number: \"))\n",
    "    num2 = int(input(\"Please enter the second integer (between -500 to 500) number: \"))\n",
    "    if (num1 > 500 or num2 > 500): raise NameError(\"Above+500\")\n",
    "    if (num1 < -500 or num2 < -500): raise NameError(\"Bellow-500\")\n",
    "    quot = num1 / num2\n",
    "    print(f\"So {num1} / {num2} = {quot}...\")\n",
    "except NameError as ne:\n",
    "    print(\"NameError: Input value(s) is/are out of range...\")\n",
    "    print(\"NameError: Error messaage:\", ne)\n",
    "    print(\"NameError: Error type:\", type(ne))\n",
    "    if (str(ne) == \"Above+500\"): print(\"NameError: Your input value(s) is/are above +500...\")\n",
    "    if (str(ne) == \"Bellow-500\"): print(\"NameError: Your input value(s) is/are below -500...\")\n",
    "except ValueError as ve:\n",
    "    print(\"ValueError: Please provide integer inputs only...!!!\")\n",
    "    print(\"ValueError: Error message:\", ve)\n",
    "    print(\"ValueError: Error type:\", type(ve))\n",
    "except ZeroDivisionError as zde:\n",
    "    print(\"ZeroDivisionError: Division by ZERO is Illegal...!!!\")\n",
    "    print(\"ZeroDivisionError: Error message:\", zde)\n",
    "    print(\"ZeroDivisionError: Error type:\", type(zde))\n",
    "except Exception as ex:\n",
    "    print(\"Exception: Another error has occurred...\")\n",
    "    print(\"Exception: Error message:\", ex)\n",
    "    print(\"Exception: Error type:\", type(ex))\n",
    "else:\n",
    "    print(\"Else: Else block is executing...\")\n",
    "    print(\"Else: Had a smooth execution...\")\n",
    "finally:\n",
    "    print(\"Finally: Finally block is executing...\")\n",
    "    print(\"Finally: Finally block executes always...\")\n",
    "print(\"End of the program...\")"
   ]
  },
  {
   "cell_type": "code",
   "execution_count": 3,
   "id": "43280357-b267-45d4-90f2-e164b0627d32",
   "metadata": {},
   "outputs": [
    {
     "name": "stdin",
     "output_type": "stream",
     "text": [
      "Please enter the first integer (between -500 to 500) number:  100\n",
      "Please enter the second integer (between -500 to 500) number:  0\n"
     ]
    },
    {
     "name": "stdout",
     "output_type": "stream",
     "text": [
      "ZeroDivisionError: Division by ZERO is Illegal...!!!\n",
      "ZeroDivisionError: Error message: division by zero\n",
      "ZeroDivisionError: Error type: <class 'ZeroDivisionError'>\n",
      "Finally: Finally block is executing...\n",
      "Finally: Finally block executes always...\n"
     ]
    },
    {
     "name": "stdin",
     "output_type": "stream",
     "text": [
      "Please enter the first integer (between -500 to 500) number:  900\n",
      "Please enter the second integer (between -500 to 500) number:  10\n"
     ]
    },
    {
     "name": "stdout",
     "output_type": "stream",
     "text": [
      "NameError: Input value(s) is/are out of range...\n",
      "NameError: Error messaage: Above+500\n",
      "NameError: Error type: <class 'NameError'>\n",
      "NameError: Your input value(s) is/are above +500...\n",
      "Finally: Finally block is executing...\n",
      "Finally: Finally block executes always...\n"
     ]
    },
    {
     "name": "stdin",
     "output_type": "stream",
     "text": [
      "Please enter the first integer (between -500 to 500) number:  -900\n",
      "Please enter the second integer (between -500 to 500) number:  -900\n"
     ]
    },
    {
     "name": "stdout",
     "output_type": "stream",
     "text": [
      "NameError: Input value(s) is/are out of range...\n",
      "NameError: Error messaage: Bellow-500\n",
      "NameError: Error type: <class 'NameError'>\n",
      "NameError: Your input value(s) is/are below -500...\n",
      "Finally: Finally block is executing...\n",
      "Finally: Finally block executes always...\n"
     ]
    },
    {
     "name": "stdin",
     "output_type": "stream",
     "text": [
      "Please enter the first integer (between -500 to 500) number:  two\n"
     ]
    },
    {
     "name": "stdout",
     "output_type": "stream",
     "text": [
      "ValueError: Please provide integer inputs only...!!!\n",
      "ValueError: Error message: invalid literal for int() with base 10: 'two'\n",
      "ValueError: Error type: <class 'ValueError'>\n",
      "Finally: Finally block is executing...\n",
      "Finally: Finally block executes always...\n"
     ]
    },
    {
     "name": "stdin",
     "output_type": "stream",
     "text": [
      "Please enter the first integer (between -500 to 500) number:  13.6\n"
     ]
    },
    {
     "name": "stdout",
     "output_type": "stream",
     "text": [
      "ValueError: Please provide integer inputs only...!!!\n",
      "ValueError: Error message: invalid literal for int() with base 10: '13.6'\n",
      "ValueError: Error type: <class 'ValueError'>\n",
      "Finally: Finally block is executing...\n",
      "Finally: Finally block executes always...\n"
     ]
    },
    {
     "name": "stdin",
     "output_type": "stream",
     "text": [
      "Please enter the first integer (between -500 to 500) number:  100\n",
      "Please enter the second integer (between -500 to 500) number:  40\n"
     ]
    },
    {
     "name": "stdout",
     "output_type": "stream",
     "text": [
      "So 100 / 40 = 2.5...\n",
      "Else: Else block is executing...\n",
      "Else: Had a smooth execution...\n",
      "Finally: Finally block is executing...\n",
      "Finally: Finally block executes always...\n",
      "End of the program...\n"
     ]
    }
   ],
   "source": [
    "while (1):\n",
    "    try:\n",
    "        num1 = int(input(\"Please enter the first integer (between -500 to 500) number: \"))\n",
    "        num2 = int(input(\"Please enter the second integer (between -500 to 500) number: \"))\n",
    "        if (num1 > 500 or num2 > 500): raise NameError(\"Above+500\")\n",
    "        if (num1 < -500 or num2 < -500): raise NameError(\"Bellow-500\")\n",
    "        quot = num1 / num2\n",
    "        print(f\"So {num1} / {num2} = {quot}...\")\n",
    "    except NameError as ne:\n",
    "        print(\"NameError: Input value(s) is/are out of range...\")\n",
    "        print(\"NameError: Error messaage:\", ne)\n",
    "        print(\"NameError: Error type:\", type(ne))\n",
    "        if (str(ne) == \"Above+500\"): print(\"NameError: Your input value(s) is/are above +500...\")\n",
    "        if (str(ne) == \"Bellow-500\"): print(\"NameError: Your input value(s) is/are below -500...\")\n",
    "    except ValueError as ve:\n",
    "        print(\"ValueError: Please provide integer inputs only...!!!\")\n",
    "        print(\"ValueError: Error message:\", ve)\n",
    "        print(\"ValueError: Error type:\", type(ve))\n",
    "    except ZeroDivisionError as zde:\n",
    "        print(\"ZeroDivisionError: Division by ZERO is Illegal...!!!\")\n",
    "        print(\"ZeroDivisionError: Error message:\", zde)\n",
    "        print(\"ZeroDivisionError: Error type:\", type(zde))\n",
    "    except Exception as ex:\n",
    "        print(\"Exception: Another error has occurred...\")\n",
    "        print(\"Exception: Error message:\", ex)\n",
    "        print(\"Exception: Error type:\", type(ex))\n",
    "    else:\n",
    "        print(\"Else: Else block is executing...\")\n",
    "        print(\"Else: Had a smooth execution...\")\n",
    "        break\n",
    "    finally:\n",
    "        print(\"Finally: Finally block is executing...\")\n",
    "        print(\"Finally: Finally block executes always...\")\n",
    "print(\"End of the program...\")"
   ]
  },
  {
   "cell_type": "code",
   "execution_count": null,
   "id": "4c33023f-4839-455b-936b-a805022874df",
   "metadata": {},
   "outputs": [],
   "source": []
  }
 ],
 "metadata": {
  "kernelspec": {
   "display_name": "Python 3 (ipykernel)",
   "language": "python",
   "name": "python3"
  },
  "language_info": {
   "codemirror_mode": {
    "name": "ipython",
    "version": 3
   },
   "file_extension": ".py",
   "mimetype": "text/x-python",
   "name": "python",
   "nbconvert_exporter": "python",
   "pygments_lexer": "ipython3",
   "version": "3.11.7"
  }
 },
 "nbformat": 4,
 "nbformat_minor": 5
}
