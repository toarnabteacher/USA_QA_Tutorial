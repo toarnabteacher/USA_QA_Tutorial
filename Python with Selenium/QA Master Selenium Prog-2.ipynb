{
 "cells": [
  {
   "cell_type": "markdown",
   "id": "14045858-2b16-412b-8c3d-e8ba94b5d068",
   "metadata": {},
   "source": [
    "# **Selenium Code Example - 2/3**"
   ]
  },
  {
   "cell_type": "markdown",
   "id": "85315a5a-2f80-4fd3-884f-b49396bdf5e6",
   "metadata": {},
   "source": [
    "## **Selenium control options to write text, button press, select, menu and others**"
   ]
  },
  {
   "cell_type": "code",
   "execution_count": 29,
   "id": "7509bb3f-4f77-4e99-aa60-40db3f68465b",
   "metadata": {},
   "outputs": [],
   "source": [
    "# import all the require modules\n",
    "from selenium import webdriver\n",
    "from selenium.webdriver.chrome.service import Service"
   ]
  },
  {
   "cell_type": "code",
   "execution_count": 30,
   "id": "37dc3f9f-49a8-454a-8d02-998420644938",
   "metadata": {},
   "outputs": [
    {
     "name": "stdout",
     "output_type": "stream",
     "text": [
      "4.18.1\n"
     ]
    }
   ],
   "source": [
    "# printing the version\n",
    "print (webdriver.__version__)"
   ]
  },
  {
   "cell_type": "code",
   "execution_count": 31,
   "id": "cdaaace8-c64f-4033-be47-f51aef516b99",
   "metadata": {},
   "outputs": [],
   "source": [
    "# opening a new chrome instance\n",
    "service = Service(executable_path='./chromedriver.exe')\n",
    "options = webdriver.ChromeOptions()\n",
    "driver = webdriver.Chrome(service=service, options=options)"
   ]
  },
  {
   "cell_type": "code",
   "execution_count": 32,
   "id": "69ff0061-7cf3-41ba-83b6-39a849ebf2de",
   "metadata": {},
   "outputs": [],
   "source": [
    "# open one web portal to calculate nCr\n",
    "# https://www.calculatorsoup.com/ => Calculators => Discrete Math => Combinations Calculator (nCr) (Get the page)\n",
    "URL = \"https://www.calculatorsoup.com/calculators/discretemathematics/combinations.php\"\n",
    "driver.get(URL)"
   ]
  },
  {
   "cell_type": "code",
   "execution_count": 33,
   "id": "fcc2b621-d5d8-4e5f-bed8-718cb77871c6",
   "metadata": {},
   "outputs": [],
   "source": [
    "num1 = '10'\n",
    "num2 = '5'"
   ]
  },
  {
   "cell_type": "code",
   "execution_count": 34,
   "id": "0e751972-2883-4d03-9efa-6953e363f919",
   "metadata": {},
   "outputs": [],
   "source": [
    "n_input = driver.find_element(\"id\", \"n\")\n",
    "n_input.clear()\n",
    "n_input.send_keys(num1)"
   ]
  },
  {
   "cell_type": "code",
   "execution_count": 35,
   "id": "0168cd30-47c9-408e-bbc8-dfa8c035dbc6",
   "metadata": {},
   "outputs": [],
   "source": [
    "# r_input = driver.find_element(\"id\", \"r\")\n",
    "# r_input.clear()\n",
    "# r_input.send_keys(num2)                               # ctrl + /"
   ]
  },
  {
   "cell_type": "code",
   "execution_count": 36,
   "id": "8489bcf0-3a71-4df9-a718-9d407b839709",
   "metadata": {},
   "outputs": [],
   "source": [
    "# to press keys, we can use the following library\n",
    "from selenium.webdriver.common.keys import Keys"
   ]
  },
  {
   "cell_type": "code",
   "execution_count": 37,
   "id": "31c3973a-5881-4b7f-9222-60951db4c079",
   "metadata": {},
   "outputs": [],
   "source": [
    "# press Tab to go to the next input area\n",
    "n_input.send_keys(Keys.TAB)"
   ]
  },
  {
   "cell_type": "code",
   "execution_count": 38,
   "id": "28a54d7f-80d5-43ca-8240-6a0591d062fa",
   "metadata": {},
   "outputs": [],
   "source": [
    "# select currently selected input area\n",
    "r_input = driver.switch_to.active_element"
   ]
  },
  {
   "cell_type": "code",
   "execution_count": 39,
   "id": "38a53215-ce18-4747-b78f-bdfcf511e8e0",
   "metadata": {},
   "outputs": [],
   "source": [
    "# put the r value inside the text box\n",
    "r_input.send_keys(num2)"
   ]
  },
  {
   "cell_type": "code",
   "execution_count": 40,
   "id": "2a01acc0-3a74-4bd6-b46b-7b552c429d16",
   "metadata": {},
   "outputs": [],
   "source": [
    "# now go to the calculate button and click on it\n",
    "calculate_button = driver.find_element(\"id\", 'calculateButton')\n",
    "calculate_button.click()"
   ]
  },
  {
   "cell_type": "code",
   "execution_count": 41,
   "id": "68fb867f-c4ec-4778-9e8a-2d923577013d",
   "metadata": {},
   "outputs": [
    {
     "name": "stdout",
     "output_type": "stream",
     "text": [
      "Answer:\n",
      "= 252\n",
      "Solution:\n",
      "C(n,r)=?\n",
      "C\n",
      "(\n",
      ")\n",
      "?\n",
      "C(n,r)=C(10,5)\n",
      "C\n",
      "(\n",
      ")\n",
      "C\n",
      "(\n",
      "10\n",
      "5\n",
      ")\n",
      "=\n",
      "10!\n",
      "(5!(10−5)!)\n",
      "10\n",
      "!\n",
      "=\n",
      "10!\n",
      "5!×5!\n",
      "10\n",
      "!\n",
      "= 252\n"
     ]
    }
   ],
   "source": [
    "# read the current answer from the result area\n",
    "result_area = driver.find_element(\"id\", \"calculatorAnswer\")\n",
    "result = result_area.text\n",
    "print (result)"
   ]
  },
  {
   "cell_type": "code",
   "execution_count": 42,
   "id": "9f7ff129-e3e7-432c-a006-83166966b204",
   "metadata": {},
   "outputs": [
    {
     "name": "stdout",
     "output_type": "stream",
     "text": [
      "252 <class 'int'>\n"
     ]
    }
   ],
   "source": [
    "final_result = int(result.split('\\n')[1].split(\" \")[1])\n",
    "print (final_result, type(final_result))"
   ]
  },
  {
   "cell_type": "code",
   "execution_count": 45,
   "id": "c57fcf4b-6df8-4f2d-8b50-36463a614ee5",
   "metadata": {},
   "outputs": [
    {
     "name": "stdout",
     "output_type": "stream",
     "text": [
      "Actual Result = 252 and Final Result = 252...\n",
      "The TEST CASE has PASSED...\n"
     ]
    }
   ],
   "source": [
    "import math\n",
    "actual_result = math.comb(int(num1), int(num2))\n",
    "print (f\"Actual Result = {actual_result} and Final Result = {final_result}...\")\n",
    "if (final_result == actual_result):\n",
    "    print(\"The TEST CASE has PASSED...\")\n",
    "else:\n",
    "    print(\"The TEST CASE has FAILED...\")"
   ]
  },
  {
   "cell_type": "code",
   "execution_count": 46,
   "id": "7ba264eb-647f-47cd-a7de-c1c465d4400d",
   "metadata": {},
   "outputs": [],
   "source": [
    "driver.quit()"
   ]
  },
  {
   "cell_type": "code",
   "execution_count": null,
   "id": "a16fb684-71be-4729-977d-b0b828375614",
   "metadata": {},
   "outputs": [],
   "source": []
  }
 ],
 "metadata": {
  "kernelspec": {
   "display_name": "Python 3 (ipykernel)",
   "language": "python",
   "name": "python3"
  },
  "language_info": {
   "codemirror_mode": {
    "name": "ipython",
    "version": 3
   },
   "file_extension": ".py",
   "mimetype": "text/x-python",
   "name": "python",
   "nbconvert_exporter": "python",
   "pygments_lexer": "ipython3",
   "version": "3.11.7"
  }
 },
 "nbformat": 4,
 "nbformat_minor": 5
}
