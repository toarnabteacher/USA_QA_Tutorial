{
 "cells": [
  {
   "cell_type": "markdown",
   "id": "242e8c91-6aa5-414c-8394-c7043ba36bbd",
   "metadata": {},
   "source": [
    "# **Selenium Code Example - 1/3**"
   ]
  },
  {
   "cell_type": "markdown",
   "id": "69289a37-5962-4631-bdbd-c9aa0cf41301",
   "metadata": {},
   "source": [
    "## **Selenium control options to write text, button press, dropdown list, checkbox and others**"
   ]
  },
  {
   "cell_type": "code",
   "execution_count": 1,
   "id": "3257d64a-7856-40ff-a8a6-cfcc8b9f3839",
   "metadata": {},
   "outputs": [],
   "source": [
    "# importing all required modules\n",
    "from selenium import webdriver\n",
    "from selenium.webdriver.chrome.service import Service "
   ]
  },
  {
   "cell_type": "code",
   "execution_count": 2,
   "id": "d6d597ea-3017-4124-99a7-5390e48a1107",
   "metadata": {},
   "outputs": [
    {
     "name": "stdout",
     "output_type": "stream",
     "text": [
      "4.18.1\n"
     ]
    }
   ],
   "source": [
    "# also check the version of selenium\n",
    "print (webdriver.__version__)"
   ]
  },
  {
   "cell_type": "code",
   "execution_count": 4,
   "id": "f9510273-f6c9-4f91-b716-7802b4d624df",
   "metadata": {},
   "outputs": [],
   "source": [
    "# opening a chrome instance\n",
    "service = Service(executable_path='./chromedriver.exe')\n",
    "options = webdriver.ChromeOptions()\n",
    "driver = webdriver.Chrome(service=service, options=options)"
   ]
  },
  {
   "cell_type": "code",
   "execution_count": 5,
   "id": "c88d06ae-a3bb-4b2b-a887-5f692f0e2d88",
   "metadata": {},
   "outputs": [],
   "source": [
    "# now we shall go to another website for our currency conversion\n",
    "# https://www.calculator.net/currency-calculator.html\n",
    "driver.get(\"https://www.calculator.net/currency-calculator.html\")"
   ]
  },
  {
   "cell_type": "code",
   "execution_count": 7,
   "id": "2999a4e5-b8b2-4c69-8b15-2662c22715b6",
   "metadata": {},
   "outputs": [],
   "source": [
    "# import select and checkbox from selenium library to get HTML select tags\n",
    "from selenium.webdriver.support.ui import Select"
   ]
  },
  {
   "cell_type": "code",
   "execution_count": 13,
   "id": "7fb3712a-9e9b-459b-a80f-71976738df39",
   "metadata": {},
   "outputs": [],
   "source": [
    "# now select the FROM currency as INR and TO currency as USD from the drop down menu\n",
    "from_currency = Select(driver.find_element('id', 'efrom'))\n",
    "from_currency.select_by_visible_text(\"INR: Indian Rupee\")"
   ]
  },
  {
   "cell_type": "code",
   "execution_count": 14,
   "id": "12382d1f-abfd-4fe9-a116-0f19f98c0fba",
   "metadata": {},
   "outputs": [],
   "source": [
    "to_currency = Select(driver.find_element(\"id\", \"eto\"))\n",
    "to_currency.select_by_value('USD')"
   ]
  },
  {
   "cell_type": "code",
   "execution_count": 18,
   "id": "958712ab-93c1-4b39-b6f3-6bd59f36d403",
   "metadata": {},
   "outputs": [],
   "source": [
    "# put the amount as 500\n",
    "amount_textbox = driver.find_element(\"id\", \"eamount\")\n",
    "# clear the previous text field and put the new value there\n",
    "amount_textbox.clear()\n",
    "amount_textbox.send_keys(\"500\")"
   ]
  },
  {
   "cell_type": "code",
   "execution_count": 19,
   "id": "31d6e99d-2502-49ce-9c55-7ce0d62c54db",
   "metadata": {},
   "outputs": [],
   "source": [
    "# click on the calculate button\n",
    "calculate_button = driver.find_element(\"xpath\", '//*[@id = \"standard\"]/tbody/tr[5]/td[2]/input[2]')\n",
    "calculate_button.click()"
   ]
  },
  {
   "cell_type": "code",
   "execution_count": 21,
   "id": "25f17fef-737d-4827-9bc6-c99a072035eb",
   "metadata": {},
   "outputs": [],
   "source": [
    "checkbox = driver.find_element('xpath', '//*[@id = \"ccmajorccsettingbox\"]')\n",
    "# if the checkbox is already checked then uncheck it by the help of the java script\n",
    "if checkbox.is_selected():\n",
    "    driver.execute_script(\"arguments[0].click()\", checkbox)"
   ]
  },
  {
   "cell_type": "code",
   "execution_count": 22,
   "id": "427ac604-9188-4b1f-b455-ba17b3688892",
   "metadata": {},
   "outputs": [],
   "source": [
    "# now select the FROM currency as INR and TO currency as USD from the drop down menu\n",
    "from_currency = Select(driver.find_element('id', 'efrom'))\n",
    "from_currency.select_by_visible_text(\"ZWL: Zimbabwean Dollar\")"
   ]
  },
  {
   "cell_type": "code",
   "execution_count": 23,
   "id": "f2ea5822-04eb-4b23-88df-fce191ae15f4",
   "metadata": {},
   "outputs": [],
   "source": [
    "to_currency = Select(driver.find_element(\"id\", \"eto\"))\n",
    "to_currency.select_by_value('DJF')"
   ]
  },
  {
   "cell_type": "code",
   "execution_count": 24,
   "id": "099269e3-768a-4100-b8a2-d3b75338c991",
   "metadata": {},
   "outputs": [],
   "source": [
    "# put the amount as 10000\n",
    "amount_textbox = driver.find_element(\"id\", \"eamount\")\n",
    "# clear the previous text field and put the new value there\n",
    "amount_textbox.clear()\n",
    "amount_textbox.send_keys(\"1000\")"
   ]
  },
  {
   "cell_type": "code",
   "execution_count": 25,
   "id": "0f2f6714-236b-46a2-ac7c-0b25963e9990",
   "metadata": {},
   "outputs": [],
   "source": [
    "# click on the calculate button\n",
    "calculate_button = driver.find_element(\"xpath\", '//*[@id = \"standard\"]/tbody/tr[5]/td[2]/input[2]')\n",
    "calculate_button.click()"
   ]
  },
  {
   "cell_type": "code",
   "execution_count": null,
   "id": "76894089-e926-4c71-b416-4a0abdc642da",
   "metadata": {},
   "outputs": [],
   "source": [
    "driver.quit()"
   ]
  },
  {
   "cell_type": "code",
   "execution_count": null,
   "id": "7821ee94-1993-4f6c-a0e8-ab2c32cd6b06",
   "metadata": {},
   "outputs": [],
   "source": []
  }
 ],
 "metadata": {
  "kernelspec": {
   "display_name": "Python 3 (ipykernel)",
   "language": "python",
   "name": "python3"
  },
  "language_info": {
   "codemirror_mode": {
    "name": "ipython",
    "version": 3
   },
   "file_extension": ".py",
   "mimetype": "text/x-python",
   "name": "python",
   "nbconvert_exporter": "python",
   "pygments_lexer": "ipython3",
   "version": "3.11.7"
  }
 },
 "nbformat": 4,
 "nbformat_minor": 5
}
