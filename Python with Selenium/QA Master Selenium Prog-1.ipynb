{
 "cells": [
  {
   "cell_type": "markdown",
   "id": "cca7df00-bacb-47b0-9fad-9ae3c852db23",
   "metadata": {},
   "source": [
    "# **Python with Selenium Program - 1**"
   ]
  },
  {
   "cell_type": "markdown",
   "id": "b8612841-ef6c-496d-af52-a014ca31ba45",
   "metadata": {},
   "source": [
    "<h1> <b>Start Chrome Driver using Executable path and start any webpage with get() function.</b></h1>"
   ]
  },
  {
   "cell_type": "code",
   "execution_count": 1,
   "id": "3b6013e6-e2fe-402c-8522-31e3bcc6080b",
   "metadata": {},
   "outputs": [],
   "source": [
    "# importing all the required modules\n",
    "from selenium import webdriver\n",
    "from selenium.webdriver.chrome.service import Service"
   ]
  },
  {
   "cell_type": "code",
   "execution_count": 2,
   "id": "af51483a-4efa-492d-b369-862898e63e1c",
   "metadata": {},
   "outputs": [
    {
     "name": "stdout",
     "output_type": "stream",
     "text": [
      "4.18.1\n"
     ]
    }
   ],
   "source": [
    "# checking the version of selenium\n",
    "print (webdriver.__version__)"
   ]
  },
  {
   "cell_type": "code",
   "execution_count": 3,
   "id": "78a74e89-dac1-43f3-b296-7082a0c3d346",
   "metadata": {},
   "outputs": [],
   "source": [
    "# as our chrome driver is present in the current folder so we can access it without mentioning any path\n",
    "service = Service(executable_path='chromedriver.exe')\n",
    "options = webdriver.ChromeOptions()\n",
    "driver = webdriver.Chrome(service=service, options=options)"
   ]
  },
  {
   "cell_type": "code",
   "execution_count": 4,
   "id": "4c960af6-470b-4757-a58e-80d2e8eab7a5",
   "metadata": {},
   "outputs": [],
   "source": [
    "# start wikipedia page\n",
    "driver.get(\"https://en.wikipedia.org/wiki/Main_Page\")"
   ]
  },
  {
   "cell_type": "code",
   "execution_count": 5,
   "id": "edde1fe4-39c9-4155-bee7-5db8ee05aa33",
   "metadata": {},
   "outputs": [
    {
     "name": "stdout",
     "output_type": "stream",
     "text": [
      "https://en.wikipedia.org/wiki/Main_Page\n",
      "Wikipedia, the free encyclopedia\n"
     ]
    }
   ],
   "source": [
    "# get the current URL and current Title of the home page\n",
    "print (driver.current_url)\n",
    "print (driver.title)"
   ]
  },
  {
   "cell_type": "code",
   "execution_count": 6,
   "id": "e90d5ee0-12c2-4035-bccc-f6fcf6b3ae6c",
   "metadata": {},
   "outputs": [],
   "source": [
    "# now, let us open a new web portal, e.g. Google\n",
    "driver.get(\"https://www.google.co.in/\")"
   ]
  },
  {
   "cell_type": "code",
   "execution_count": 7,
   "id": "8a531773-b018-4321-a6b3-b92a8f2469b0",
   "metadata": {},
   "outputs": [
    {
     "name": "stdout",
     "output_type": "stream",
     "text": [
      "https://www.google.co.in/\n",
      "Google\n"
     ]
    }
   ],
   "source": [
    "# get the current URL and current Title of the home page\n",
    "print (driver.current_url)\n",
    "print (driver.title)"
   ]
  },
  {
   "cell_type": "code",
   "execution_count": 8,
   "id": "47ad6b00-3405-4cea-8ceb-8a2b0ee486de",
   "metadata": {},
   "outputs": [
    {
     "name": "stdout",
     "output_type": "stream",
     "text": [
      "https://en.wikipedia.org/wiki/Main_Page\n",
      "Wikipedia, the free encyclopedia\n"
     ]
    }
   ],
   "source": [
    "# now return back to the previous page with back() function\n",
    "driver.back()\n",
    "print (driver.current_url)\n",
    "print (driver.title)"
   ]
  },
  {
   "cell_type": "code",
   "execution_count": 9,
   "id": "cd48f7aa-0d4d-415e-8d39-62d6d22ee7d0",
   "metadata": {},
   "outputs": [
    {
     "name": "stdout",
     "output_type": "stream",
     "text": [
      "https://www.google.co.in/\n",
      "Google\n"
     ]
    }
   ],
   "source": [
    "# now go to the google page again by using forward() function\n",
    "driver.forward()\n",
    "print (driver.current_url)\n",
    "print (driver.title)"
   ]
  },
  {
   "cell_type": "code",
   "execution_count": 10,
   "id": "930bbd09-defb-45bd-b34d-4061cdce5006",
   "metadata": {},
   "outputs": [],
   "source": [
    "# close all the windows which were opened by the driver\n",
    "driver.quit()"
   ]
  },
  {
   "cell_type": "code",
   "execution_count": null,
   "id": "b4179ffe-0f83-4223-8dce-e52aa21ecefc",
   "metadata": {},
   "outputs": [],
   "source": []
  }
 ],
 "metadata": {
  "kernelspec": {
   "display_name": "Python 3 (ipykernel)",
   "language": "python",
   "name": "python3"
  },
  "language_info": {
   "codemirror_mode": {
    "name": "ipython",
    "version": 3
   },
   "file_extension": ".py",
   "mimetype": "text/x-python",
   "name": "python",
   "nbconvert_exporter": "python",
   "pygments_lexer": "ipython3",
   "version": "3.11.7"
  }
 },
 "nbformat": 4,
 "nbformat_minor": 5
}
